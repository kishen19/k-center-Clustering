{
 "cells": [
  {
   "cell_type": "code",
   "execution_count": 1,
   "metadata": {},
   "outputs": [],
   "source": [
    "import pandas as pd\n",
    "import numpy as np\n",
    "from tqdm import tqdm_notebook as tqdm\n",
    "import heapq\n",
    "from collections import defaultdict"
   ]
  },
  {
   "cell_type": "code",
   "execution_count": 7,
   "metadata": {},
   "outputs": [],
   "source": [
    "data = pd.read_csv(\"./datasets/credit_card.csv\").fillna(0)"
   ]
  },
  {
   "cell_type": "markdown",
   "metadata": {},
   "source": [
    "Normalizing data"
   ]
  },
  {
   "cell_type": "code",
   "execution_count": 8,
   "metadata": {},
   "outputs": [],
   "source": [
    "datamax = data.iloc[:,1:].max(axis=0)\n",
    "data1 = data.iloc[:,1:].divide(datamax,axis=1)\n",
    "data = pd.concat([data.iloc[:,0], data1],axis=1).fillna(0)"
   ]
  },
  {
   "cell_type": "markdown",
   "metadata": {},
   "source": [
    "Distance Function"
   ]
  },
  {
   "cell_type": "code",
   "execution_count": 9,
   "metadata": {},
   "outputs": [],
   "source": [
    "from functools import partial\n",
    "L2 = partial(np.linalg.norm,ord=2)"
   ]
  },
  {
   "cell_type": "markdown",
   "metadata": {},
   "source": [
    "Pre-calculating pair-wise distances of all points (useful in greedy algo as well as calculating optimum)"
   ]
  },
  {
   "cell_type": "code",
   "execution_count": 10,
   "metadata": {},
   "outputs": [],
   "source": [
    "n_points = data.shape[0]\n",
    "dist = [[0 for i in range(n_points)] for j in range(n_points)]\n",
    "points = [np.array(data.iloc[i].iloc[1:]) for i in range(data.shape[0])]"
   ]
  },
  {
   "cell_type": "code",
   "execution_count": 11,
   "metadata": {},
   "outputs": [
    {
     "data": {
      "application/vnd.jupyter.widget-view+json": {
       "model_id": "d4da8dd9659f476cb0c4327e91273299",
       "version_major": 2,
       "version_minor": 0
      },
      "text/plain": [
       "HBox(children=(IntProgress(value=0, max=8949), HTML(value='')))"
      ]
     },
     "metadata": {},
     "output_type": "display_data"
    },
    {
     "name": "stdout",
     "output_type": "stream",
     "text": [
      "\n"
     ]
    }
   ],
   "source": [
    "for i in tqdm(range(n_points-1)):\n",
    "    for j in range(i+1,n_points):\n",
    "        d = L2(points[i]-points[j])\n",
    "        dist[i][j]=dist[j][i]=d"
   ]
  },
  {
   "cell_type": "code",
   "execution_count": 12,
   "metadata": {},
   "outputs": [],
   "source": [
    "np.save(\"dist.npy\",np.array(dist))"
   ]
  },
  {
   "cell_type": "code",
   "execution_count": 13,
   "metadata": {},
   "outputs": [],
   "source": [
    "dist = np.load(\"./dist.npy\")"
   ]
  },
  {
   "cell_type": "markdown",
   "metadata": {},
   "source": [
    "### Greedy Algorithm - (2 Approximation)"
   ]
  },
  {
   "cell_type": "code",
   "execution_count": 14,
   "metadata": {},
   "outputs": [],
   "source": [
    "def farthest(clusters):\n",
    "    argmax, maxd = -1,-1\n",
    "    for i in range(len(clusters)):\n",
    "        d2c = dist[clusters[i]][i]\n",
    "        if d2c > maxd:\n",
    "            maxd = d2c\n",
    "            argmax = i\n",
    "    return argmax, maxd"
   ]
  },
  {
   "cell_type": "code",
   "execution_count": 15,
   "metadata": {},
   "outputs": [],
   "source": [
    "def greedy(points, k, first=-1):\n",
    "    n = len(points)\n",
    "    pind = list(range(n))\n",
    "    if first==-1:\n",
    "        first = np.random.choice(pind)\n",
    "    k-=1\n",
    "    clusters = [first]*n\n",
    "    centers = [first]\n",
    "    newc,dk = farthest(clusters) \n",
    "    while k:\n",
    "        centers.append(newc)\n",
    "        for i in range(n):\n",
    "            if dist[i][clusters[i]]>dist[i][newc]:\n",
    "                clusters[i]=newc\n",
    "        k-=1\n",
    "        newc,dk = farthest(clusters)\n",
    "    return centers, clusters, dk"
   ]
  },
  {
   "cell_type": "code",
   "execution_count": 16,
   "metadata": {},
   "outputs": [],
   "source": [
    "first = np.random.choice(range(len(points)))"
   ]
  },
  {
   "cell_type": "code",
   "execution_count": 21,
   "metadata": {},
   "outputs": [],
   "source": [
    "from IPython.display import display"
   ]
  },
  {
   "cell_type": "code",
   "execution_count": 32,
   "metadata": {},
   "outputs": [
    {
     "data": {
      "text/html": [
       "<div>\n",
       "<style scoped>\n",
       "    .dataframe tbody tr th:only-of-type {\n",
       "        vertical-align: middle;\n",
       "    }\n",
       "\n",
       "    .dataframe tbody tr th {\n",
       "        vertical-align: top;\n",
       "    }\n",
       "\n",
       "    .dataframe thead th {\n",
       "        text-align: right;\n",
       "    }\n",
       "</style>\n",
       "<table border=\"1\" class=\"dataframe\">\n",
       "  <thead>\n",
       "    <tr style=\"text-align: right;\">\n",
       "      <th></th>\n",
       "      <th>K</th>\n",
       "      <th>Score</th>\n",
       "    </tr>\n",
       "  </thead>\n",
       "  <tbody>\n",
       "    <tr>\n",
       "      <th>0</th>\n",
       "      <td>2</td>\n",
       "      <td>2.199641</td>\n",
       "    </tr>\n",
       "    <tr>\n",
       "      <th>1</th>\n",
       "      <td>4</td>\n",
       "      <td>1.920288</td>\n",
       "    </tr>\n",
       "    <tr>\n",
       "      <th>2</th>\n",
       "      <td>8</td>\n",
       "      <td>1.546847</td>\n",
       "    </tr>\n",
       "    <tr>\n",
       "      <th>3</th>\n",
       "      <td>20</td>\n",
       "      <td>1.179808</td>\n",
       "    </tr>\n",
       "  </tbody>\n",
       "</table>\n",
       "</div>"
      ],
      "text/plain": [
       "    K     Score\n",
       "0   2  2.199641\n",
       "1   4  1.920288\n",
       "2   8  1.546847\n",
       "3  20  1.179808"
      ]
     },
     "metadata": {},
     "output_type": "display_data"
    }
   ],
   "source": [
    "ans = []\n",
    "ks = [2,4,8,20]\n",
    "for k in ks:\n",
    "    cnt, clus, dk = greedy(points,k,first=first)\n",
    "    ans.append([k,dk])\n",
    "ans = pd.DataFrame(ans)\n",
    "ans.columns = [\"K\", \"Score\"]\n",
    "display(ans)"
   ]
  },
  {
   "cell_type": "markdown",
   "metadata": {},
   "source": [
    "### Finding Optimal k-centers"
   ]
  },
  {
   "cell_type": "code",
   "execution_count": 23,
   "metadata": {},
   "outputs": [],
   "source": [
    "def opt2(points):\n",
    "    n = len(points)\n",
    "    optc = []\n",
    "    optd2 = 10**9+7\n",
    "    for c1 in tqdm(range(n-1)):\n",
    "        for c2 in range(c1+1,n):\n",
    "            d2 = np.max(np.minimum(distnp[:,c1],distnp[:,c2]))\n",
    "            if d2 < optd2:\n",
    "                optd2=d2;optc=[c1,c2]\n",
    "    c1,c2 = optc\n",
    "    clusters = [c1]*n\n",
    "    for i in range(n):\n",
    "        if distnp[i][c2]<distnp[i][c1]:\n",
    "            clusters[i]=c2\n",
    "    return optc, clusters, optd2"
   ]
  },
  {
   "cell_type": "code",
   "execution_count": 24,
   "metadata": {},
   "outputs": [],
   "source": [
    "def opt3(points):\n",
    "    n = len(points)\n",
    "    optc = []\n",
    "    clusters = []\n",
    "    optd3 = 10**9+7\n",
    "    for c1 in tqdm(range(n-2)):\n",
    "        for c2 in range(c1+1,n-1):\n",
    "            for c3 in range(c2+1,n):\n",
    "                d3 = np.max(np.minimum(np.minimum(distnp[:,c1],distnp[:,c2]),distnp[:,c3]))\n",
    "                if d3 < optd3:\n",
    "                    optc, optd3 = [c1,c2,c3], d3\n",
    "    c1,c2,c3 = optc\n",
    "    clusters = [c1]*n\n",
    "    for i in range(n):\n",
    "        if distnp[i][c2]<distnp[i][c1]:\n",
    "            clusters[i]=c2\n",
    "        if distnp[i][c3]<distnp[i][clusters[i]]:\n",
    "            clusters[i]=c3\n",
    "    return optc, clusters, optd3"
   ]
  },
  {
   "cell_type": "markdown",
   "metadata": {},
   "source": [
    "Taking only a random portion (1%) of the dataset for finding optimal."
   ]
  },
  {
   "cell_type": "code",
   "execution_count": 25,
   "metadata": {},
   "outputs": [],
   "source": [
    "indices = np.random.choice(range(len(points)),len(points)//100,replace=False)\n",
    "points_1p = [points[i] for i in indices]\n",
    "distnp = np.array([[dist[i][j] for i in indices] for j in indices])"
   ]
  },
  {
   "cell_type": "code",
   "execution_count": 33,
   "metadata": {},
   "outputs": [],
   "source": [
    "ans = []"
   ]
  },
  {
   "cell_type": "code",
   "execution_count": 34,
   "metadata": {},
   "outputs": [
    {
     "data": {
      "application/vnd.jupyter.widget-view+json": {
       "model_id": "091098ec40364a168d757ffd55edff4d",
       "version_major": 2,
       "version_minor": 0
      },
      "text/plain": [
       "HBox(children=(IntProgress(value=0, max=88), HTML(value='')))"
      ]
     },
     "metadata": {},
     "output_type": "display_data"
    },
    {
     "name": "stdout",
     "output_type": "stream",
     "text": [
      "\n"
     ]
    }
   ],
   "source": [
    "_,__, optd2 = opt2(points_1p)\n",
    "_,__, greedyd2 = greedy(points_1p,2,first=first)\n",
    "ans.append([2, optd2, greedyd2, greedyd2/optd2])"
   ]
  },
  {
   "cell_type": "code",
   "execution_count": 35,
   "metadata": {},
   "outputs": [
    {
     "data": {
      "application/vnd.jupyter.widget-view+json": {
       "model_id": "50d35f4d79d74105bd7cf4df0f67c7dd",
       "version_major": 2,
       "version_minor": 0
      },
      "text/plain": [
       "HBox(children=(IntProgress(value=0, max=87), HTML(value='')))"
      ]
     },
     "metadata": {},
     "output_type": "display_data"
    },
    {
     "name": "stdout",
     "output_type": "stream",
     "text": [
      "\n"
     ]
    }
   ],
   "source": [
    "_,__, optd3 = opt3(points_1p)\n",
    "_,__, greedyd3 = greedy(points_1p,3,first=first)\n",
    "ans.append([3, optd3, greedyd3, greedyd3/optd3])"
   ]
  },
  {
   "cell_type": "code",
   "execution_count": 36,
   "metadata": {},
   "outputs": [
    {
     "data": {
      "text/html": [
       "<div>\n",
       "<style scoped>\n",
       "    .dataframe tbody tr th:only-of-type {\n",
       "        vertical-align: middle;\n",
       "    }\n",
       "\n",
       "    .dataframe tbody tr th {\n",
       "        vertical-align: top;\n",
       "    }\n",
       "\n",
       "    .dataframe thead th {\n",
       "        text-align: right;\n",
       "    }\n",
       "</style>\n",
       "<table border=\"1\" class=\"dataframe\">\n",
       "  <thead>\n",
       "    <tr style=\"text-align: right;\">\n",
       "      <th></th>\n",
       "      <th>K</th>\n",
       "      <th>Optimal Score</th>\n",
       "      <th>Greedy Score</th>\n",
       "      <th>Approximation Ratio</th>\n",
       "    </tr>\n",
       "  </thead>\n",
       "  <tbody>\n",
       "    <tr>\n",
       "      <th>0</th>\n",
       "      <td>2</td>\n",
       "      <td>1.179486</td>\n",
       "      <td>1.501574</td>\n",
       "      <td>1.273075</td>\n",
       "    </tr>\n",
       "    <tr>\n",
       "      <th>1</th>\n",
       "      <td>3</td>\n",
       "      <td>1.087222</td>\n",
       "      <td>1.438984</td>\n",
       "      <td>1.323542</td>\n",
       "    </tr>\n",
       "  </tbody>\n",
       "</table>\n",
       "</div>"
      ],
      "text/plain": [
       "   K  Optimal Score  Greedy Score  Approximation Ratio\n",
       "0  2       1.179486      1.501574             1.273075\n",
       "1  3       1.087222      1.438984             1.323542"
      ]
     },
     "metadata": {},
     "output_type": "display_data"
    }
   ],
   "source": [
    "ans = pd.DataFrame(ans)\n",
    "ans.columns = [\"K\", \"Optimal Score\", \"Greedy Score\", \"Approximation Ratio\"]\n",
    "display(ans)"
   ]
  },
  {
   "cell_type": "markdown",
   "metadata": {},
   "source": [
    "### Improving Performance\n",
    "\n",
    "I tried finding the approximation hardness of the k-centers problem. I found that it is actually $2$, i.e. if there is a $(2-\\epsilon)$ approximation for k-centers, then P=NP. \n",
    "\n",
    "They mentioned that it can be proved by a reduction from Dominating Set, which I tried and I created a simple instance of k-centers given an instance of Dominating Set. \n",
    "\n",
    "I just put weights on the edges as $1$, then distance is defined as the shortest distance between the two points in the graph. So, if there is a dominating set of size $k$, then there exists a k-center clustering with $\\Delta_k = 1$, else it is greater than $1$. Our approximation algorithm must give answer $(2-\\epsilon)\\times 1$, but that is not possible as the edge weights are in multiples of $1$. So, if the dominating set exists, then the approximation algorithm returns a solution with $\\Delta_k = 1$, else something greater than 1. By this we created a solution for Dominating Set. \n",
    "\n",
    "Hence, the approximation hardness is $2$."
   ]
  },
  {
   "cell_type": "markdown",
   "metadata": {},
   "source": [
    "On this dataset, I propose the following heuristic algorithm:\n",
    "\n",
    "1) Find greedy solution.<br>\n",
    "2) In each cluster, re-assign the center such that it still covers all the points in that cluster, but the radius is minimized(this is like brute forcing a k=1 solution on a smaller set of points).<br>\n",
    "3) Now, as the centers are changed, assign all the points to their nearest centers.<br>\n",
    "4) Recalculate the final score/cost of the clustering.\n",
    "\n",
    "As we can see, this algorithm tries to optimize the already existing greedy algorithm. If it is possible to optimize, it will, else it is equal to the greedy solution. Therefore, My_algo $\\le$ Greedy.\n",
    "\n",
    "The time complexity of this algorithm is time complexity of greedy + $\\sum_{i=1}^{k} p_i^2$ + $\\mathcal{O}(nk)$(for re-assigning centers), where p_i denotes the no. of points in $i^{th}$ cluster.\n",
    "\n",
    "In worst case, it will be $\\mathcal{O}(kn^2)$"
   ]
  },
  {
   "cell_type": "code",
   "execution_count": 30,
   "metadata": {},
   "outputs": [],
   "source": [
    "def heuristic(points, k, first=-1):\n",
    "    n = len(points)\n",
    "    cnts, clus, dk = greedy(points, k, first)\n",
    "    cluss = defaultdict(list)\n",
    "    for i in range(n):\n",
    "        cluss[clus[i]].append(i)\n",
    "    new_cnt = []\n",
    "    for clu in cluss:\n",
    "        best = 10**9+7\n",
    "        besti = -1\n",
    "        for i in cluss[clu]:\n",
    "            rad = 0\n",
    "            for j in cluss[clu]:\n",
    "                rad = max(rad, dist[i][j])\n",
    "            if rad<best:\n",
    "                best=rad\n",
    "                besti=i\n",
    "        new_cnt.append(besti)\n",
    "    new_clus = [new_cnt[0]]*n\n",
    "    for i in new_cnt[1:]:\n",
    "        for j in range(n):\n",
    "            if dist[j][i]<dist[j][new_clus[j]]:\n",
    "                new_clus[j]=i\n",
    "    _, dk = farthest(new_clus)\n",
    "    return new_cnt, new_clus, dk"
   ]
  },
  {
   "cell_type": "code",
   "execution_count": 45,
   "metadata": {},
   "outputs": [
    {
     "data": {
      "application/vnd.jupyter.widget-view+json": {
       "model_id": "5fad72c494734df58456b0556ff16909",
       "version_major": 2,
       "version_minor": 0
      },
      "text/plain": [
       "HBox(children=(IntProgress(value=0, max=10), HTML(value='')))"
      ]
     },
     "metadata": {},
     "output_type": "display_data"
    },
    {
     "name": "stdout",
     "output_type": "stream",
     "text": [
      "\n"
     ]
    },
    {
     "data": {
      "text/html": [
       "<div>\n",
       "<style scoped>\n",
       "    .dataframe tbody tr th:only-of-type {\n",
       "        vertical-align: middle;\n",
       "    }\n",
       "\n",
       "    .dataframe tbody tr th {\n",
       "        vertical-align: top;\n",
       "    }\n",
       "\n",
       "    .dataframe thead th {\n",
       "        text-align: right;\n",
       "    }\n",
       "</style>\n",
       "<table border=\"1\" class=\"dataframe\">\n",
       "  <thead>\n",
       "    <tr style=\"text-align: right;\">\n",
       "      <th></th>\n",
       "      <th>K</th>\n",
       "      <th>Greedy Score</th>\n",
       "      <th>My Algo Score</th>\n",
       "    </tr>\n",
       "  </thead>\n",
       "  <tbody>\n",
       "    <tr>\n",
       "      <th>0</th>\n",
       "      <td>20</td>\n",
       "      <td>1.166002</td>\n",
       "      <td>1.002642</td>\n",
       "    </tr>\n",
       "  </tbody>\n",
       "</table>\n",
       "</div>"
      ],
      "text/plain": [
       "    K  Greedy Score  My Algo Score\n",
       "0  20      1.166002       1.002642"
      ]
     },
     "metadata": {},
     "output_type": "display_data"
    }
   ],
   "source": [
    "ans = [20,1,1]\n",
    "for first in tqdm(range(10)): # Just running on few different start points and fetching best\n",
    "    _, __, greedy_dk = greedy(points, k=20, first=first)\n",
    "    _, __, dk = heuristic(points,k=20, first=first)\n",
    "    if greedy_dk-dk > ans[1]-ans[2]:\n",
    "        ans[1],ans[2] = greedy_dk,dk\n",
    "ans = pd.DataFrame([ans],columns = [\"K\",\"Greedy Score\",\"My Algo Score\"])\n",
    "display(ans)"
   ]
  },
  {
   "cell_type": "markdown",
   "metadata": {},
   "source": [
    "As we can see, my algo has an improvement over the greedy algorithm. Also, the time taken is around 10-15 sec, for given start point."
   ]
  }
 ],
 "metadata": {
  "kernelspec": {
   "display_name": "Python 3",
   "language": "python",
   "name": "python3"
  },
  "language_info": {
   "codemirror_mode": {
    "name": "ipython",
    "version": 3
   },
   "file_extension": ".py",
   "mimetype": "text/x-python",
   "name": "python",
   "nbconvert_exporter": "python",
   "pygments_lexer": "ipython3",
   "version": "3.7.3"
  }
 },
 "nbformat": 4,
 "nbformat_minor": 2
}
